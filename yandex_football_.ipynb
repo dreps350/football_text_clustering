{
 "cells": [
  {
   "cell_type": "markdown",
   "metadata": {},
   "source": [
    "Яндекс готовит спецпроект, посвященный Чемпионату мира по футболу. Нужно сделать колдунщик, а чтобы он получился качественным, необходимо знать, что интересует пользователей в связи с этим событием: до него, во время и после. \n",
    "\n",
    "Для этого вам предлагается проанализировать логи поисковых запросов. Предложите несколько вариантов классификации этих запросов. Расчётную часть выполните на любом скриптовом языке программирования. К заданию приложите ваш скрипт и отчёт, включающий анализ и выводы (сам колдунщик делать не нужно).\n",
    "\n",
    "Данные могут быть скачены по ссылке:\n",
    "\n",
    "https://yadi.sk/d/C3xzGaNm3O-c8Q"
   ]
  },
  {
   "cell_type": "markdown",
   "metadata": {},
   "source": [
    "# Подготовка"
   ]
  },
  {
   "cell_type": "code",
   "execution_count": 1,
   "metadata": {},
   "outputs": [],
   "source": [
    "from time import time\n",
    "import random\n",
    "from datetime import datetime\n",
    "\n",
    "import pandas as pd\n",
    "import matplotlib.pyplot as plt\n",
    "import numpy as np\n",
    "\n",
    "from sklearn.cluster import KMeans, MiniBatchKMeans\n",
    "from sklearn.decomposition import NMF, LatentDirichletAllocation, PCA\n",
    "from sklearn.feature_extraction.text import TfidfVectorizer, CountVectorizer, HashingVectorizer\n",
    "from sklearn.feature_extraction.text import TfidfTransformer\n",
    "from sklearn.feature_extraction.text import CountVectorizer\n",
    "from sklearn.preprocessing import Normalizer\n",
    "from sklearn import metrics\n",
    "\n",
    "from pymorphy2 import MorphAnalyzer\n",
    "\n",
    "MORPH = MorphAnalyzer()"
   ]
  },
  {
   "cell_type": "code",
   "execution_count": 2,
   "metadata": {},
   "outputs": [],
   "source": [
    "with open(\"./data/stopwords-ru.txt\", encoding=\"utf-8\") as f:\n",
    "    stop_words = list(map(str.strip, f.readlines()))"
   ]
  },
  {
   "cell_type": "code",
   "execution_count": 3,
   "metadata": {},
   "outputs": [],
   "source": [
    "class KMeansAnalizer:\n",
    "    \"\"\"\n",
    "    Класс для определения кол-ва кластеров\n",
    "    \"\"\"\n",
    "    def __init__(self, clusterer, data):\n",
    "        self._clusterer = clusterer\n",
    "        self._data = data\n",
    "        self._inertia = {}\n",
    "        self._labels = {}\n",
    "        self._silhouette = {}\n",
    "        \n",
    "    def explore(self, range_inst: \"range\"):\n",
    "        for k in range_inst:\n",
    "            if k in self._inertia:\n",
    "                continue\n",
    "            print(f\"fitting {k} clusters\")\n",
    "            self._clusterer.n_clusters = k\n",
    "            self._clusterer.init_size = k * 3\n",
    "            self._clusterer.fit(self._data)\n",
    "            self._inertia.update({k: np.sqrt(self._clusterer.inertia_)})\n",
    "            self._labels.update({k: self._clusterer.labels_})\n",
    "            \n",
    "    def plot_elbow(self):\n",
    "        plt.plot(self._inertia.keys(), self._inertia.values(), marker='s');\n",
    "        plt.xlabel('$k$')\n",
    "        plt.ylabel('$J(C_k)$');\n",
    "        \n",
    "    def _calculate_silhouette(self):\n",
    "        for k, labels in self._labels.items():\n",
    "            if k not in self._silhouette:\n",
    "                print(f\"Calculating silhouette for {k} clusters\")\n",
    "                self._silhouette.update({k: metrics.silhouette_score(self._data, labels)})\n",
    "        \n",
    "    def plot_silhouette(self):\n",
    "        self._calculate_silhouette()\n",
    "        plt.plot(self._silhouette.keys(), self._silhouette.values(), marker='s');\n",
    "        plt.xlabel('$k$')\n",
    "        plt.ylabel('$Silhouette$');"
   ]
  },
  {
   "cell_type": "code",
   "execution_count": 4,
   "metadata": {},
   "outputs": [],
   "source": [
    "from collections import Counter\n",
    "\n",
    "class WordFreqsCounter:\n",
    "    \"\"\"\n",
    "    Класс для подсчета частот слов\n",
    "    \"\"\"\n",
    "    def __init__(self, normal_form=False):\n",
    "        self.normal = normal_form\n",
    "        self._freqs = Counter()\n",
    "    \n",
    "    def count_freqs(self, document, stop_words):\n",
    "        stop_words = set(stop_words)\n",
    "        for term in document:\n",
    "            if self.normal:  # приведение к нормальной форме: \"дверью\" -> \"дверь\"\n",
    "                term = [m.parse(word)[0].normal_form for word in term.split() if word not in stop_words]\n",
    "            else:\n",
    "                term = [word for word in term.split() if word not in stop_words]\n",
    "            self._freqs.update(term)\n",
    "            \n",
    "    @property\n",
    "    def freqs(self):\n",
    "        return pd.Series(self._freqs).sort_values(ascending=False)"
   ]
  },
  {
   "cell_type": "code",
   "execution_count": 5,
   "metadata": {},
   "outputs": [],
   "source": [
    "class LemmTfidfVectorizer(TfidfVectorizer):\n",
    "    \"\"\"\n",
    "    Добавляет функционал MorphAnalizer\n",
    "    \"\"\"\n",
    "    def build_analyzer(self):\n",
    "        analyzer = super(TfidfVectorizer, self).build_analyzer()\n",
    "        def parse_analyzer(data):\n",
    "            for word in analyzer(data):\n",
    "                yield MORPH.parse(word)[0].normal_form\n",
    "        return parse_analyzer"
   ]
  },
  {
   "cell_type": "markdown",
   "metadata": {},
   "source": [
    "# EDA"
   ]
  },
  {
   "cell_type": "code",
   "execution_count": 6,
   "metadata": {},
   "outputs": [],
   "source": [
    "data = pd.read_csv(\"./data/football\", nrows=1000000, sep=\"\\t\")\n",
    "data.dropna(inplace=True)\n",
    "data.datetime = pd.to_datetime(data.datetime)"
   ]
  },
  {
   "cell_type": "code",
   "execution_count": 7,
   "metadata": {},
   "outputs": [
    {
     "data": {
      "text/html": [
       "<div>\n",
       "<style scoped>\n",
       "    .dataframe tbody tr th:only-of-type {\n",
       "        vertical-align: middle;\n",
       "    }\n",
       "\n",
       "    .dataframe tbody tr th {\n",
       "        vertical-align: top;\n",
       "    }\n",
       "\n",
       "    .dataframe thead th {\n",
       "        text-align: right;\n",
       "    }\n",
       "</style>\n",
       "<table border=\"1\" class=\"dataframe\">\n",
       "  <thead>\n",
       "    <tr style=\"text-align: right;\">\n",
       "      <th></th>\n",
       "      <th>normal_query</th>\n",
       "      <th>datetime</th>\n",
       "    </tr>\n",
       "  </thead>\n",
       "  <tbody>\n",
       "    <tr>\n",
       "      <th>count</th>\n",
       "      <td>999999</td>\n",
       "      <td>999999</td>\n",
       "    </tr>\n",
       "    <tr>\n",
       "      <th>unique</th>\n",
       "      <td>776657</td>\n",
       "      <td>73401</td>\n",
       "    </tr>\n",
       "    <tr>\n",
       "      <th>top</th>\n",
       "      <td>вк</td>\n",
       "      <td>2018-06-19 11:42:22</td>\n",
       "    </tr>\n",
       "    <tr>\n",
       "      <th>freq</th>\n",
       "      <td>6364</td>\n",
       "      <td>48</td>\n",
       "    </tr>\n",
       "    <tr>\n",
       "      <th>first</th>\n",
       "      <td>NaN</td>\n",
       "      <td>2018-06-14 01:56:52</td>\n",
       "    </tr>\n",
       "    <tr>\n",
       "      <th>last</th>\n",
       "      <td>NaN</td>\n",
       "      <td>2018-07-15 19:44:49</td>\n",
       "    </tr>\n",
       "  </tbody>\n",
       "</table>\n",
       "</div>"
      ],
      "text/plain": [
       "       normal_query             datetime\n",
       "count        999999               999999\n",
       "unique       776657                73401\n",
       "top              вк  2018-06-19 11:42:22\n",
       "freq           6364                   48\n",
       "first           NaN  2018-06-14 01:56:52\n",
       "last            NaN  2018-07-15 19:44:49"
      ]
     },
     "execution_count": 7,
     "metadata": {},
     "output_type": "execute_result"
    }
   ],
   "source": [
    "data.describe()"
   ]
  },
  {
   "cell_type": "markdown",
   "metadata": {},
   "source": [
    "Работаем на примере запросов в период с 2018-06-14 по 2018-07-15 (1 месяц)"
   ]
  },
  {
   "cell_type": "markdown",
   "metadata": {},
   "source": [
    "Как распределены частоты слов?"
   ]
  },
  {
   "cell_type": "code",
   "execution_count": 8,
   "metadata": {},
   "outputs": [
    {
     "name": "stdout",
     "output_type": "stream",
     "text": [
      "Wall time: 18.9 s\n"
     ]
    }
   ],
   "source": [
    "%%time\n",
    "\n",
    "wfc = WordFreqsCounter()\n",
    "wfc.count_freqs(data[\"normal_query\"].values, stop_words)\n",
    "\n",
    "# отсеиваем слова, состоящие только из цифр\n",
    "digit_filter = np.core.defchararray.isdigit(wfc.freqs.index.tolist())"
   ]
  },
  {
   "cell_type": "code",
   "execution_count": 9,
   "metadata": {},
   "outputs": [
    {
     "data": {
      "image/png": "[encoded data removed]",
      "text/plain": [
       "<Figure size 720x288 with 1 Axes>"
      ]
     },
     "metadata": {
      "needs_background": "light"
     },
     "output_type": "display_data"
    }
   ],
   "source": [
    "wfc.freqs[~digit_filter].head(50).plot(kind=\"bar\", figsize=(10, 4));"
   ]
  },
  {
   "cell_type": "markdown",
   "metadata": {},
   "source": [
    "# Кластеризация"
   ]
  },
  {
   "cell_type": "markdown",
   "metadata": {},
   "source": [
    "Используем векторизатор Tf Idf так как он позволяет учитывать частоту появления слов как в отдельном запросе так и во всех запросах в целом.\n",
    "\n",
    "Используем N-граммы 1 и 2 чтобы использовать в качестве признаков отдельные слова и словосочетания.\n",
    "\n",
    "https://scikit-learn.org/stable/modules/feature_extraction\n",
    "\n",
    "Используем кластеризатор MiniBatchKMeans так как он работает быстрее обычного KMeans.\n",
    "\n",
    "https://scikit-learn.org/stable/auto_examples/cluster/plot_mini_batch_kmeans.html"
   ]
  },
  {
   "cell_type": "code",
   "execution_count": 10,
   "metadata": {},
   "outputs": [],
   "source": [
    "# параметры векторизатора\n",
    "v_params = {\n",
    "    \"max_df\": 0.95,  # используем слова, которые встречаются не более чем в 95% запросов\n",
    "    \"min_df\": 2, # используем слова, которые встречаются не менее 2 раз\n",
    "    \"stop_words\": stop_words,\n",
    "    \"max_features\": 2000,\n",
    "    \"ngram_range\": (1, 2)\n",
    "}"
   ]
  },
  {
   "cell_type": "code",
   "execution_count": 11,
   "metadata": {},
   "outputs": [],
   "source": [
    "# параметры кластеризатора\n",
    "mb_params = {\n",
    "    \"init\": \"k-means++\",\n",
    "    \"n_init\": 10,\n",
    "    \"max_no_improvement\": 10,\n",
    "    \"batch_size\": 45\n",
    "}"
   ]
  },
  {
   "cell_type": "code",
   "execution_count": 12,
   "metadata": {},
   "outputs": [],
   "source": [
    "tfidf = LemmTfidfVectorizer(v_params)\n",
    "\n",
    "mb = MiniBatchKMeans(**mb_params)"
   ]
  },
  {
   "cell_type": "markdown",
   "metadata": {},
   "source": [
    "Приводим наши запросы к векторной форме:"
   ]
  },
  {
   "cell_type": "code",
   "execution_count": 13,
   "metadata": {},
   "outputs": [
    {
     "name": "stdout",
     "output_type": "stream",
     "text": [
      "Wall time: 8min 48s\n"
     ]
    }
   ],
   "source": [
    "%%time\n",
    "\n",
    "X = tfidf.fit_transform(data[\"normal_query\"])"
   ]
  },
  {
   "cell_type": "markdown",
   "metadata": {},
   "source": [
    "Оценка необходимого числа кластеров методом локтя\n",
    "\n",
    "Критерий - сумма квадратов расстояний от точек до центроидов кластеров, к которым они относятся"
   ]
  },
  {
   "cell_type": "code",
   "execution_count": 14,
   "metadata": {},
   "outputs": [],
   "source": [
    "# kma = KMeansAnalizer(mb, X)"
   ]
  },
  {
   "cell_type": "code",
   "execution_count": 15,
   "metadata": {},
   "outputs": [],
   "source": [
    "# %%time\n",
    "\n",
    "# kma.explore(range(10, 200, 20))"
   ]
  },
  {
   "cell_type": "code",
   "execution_count": 16,
   "metadata": {},
   "outputs": [],
   "source": [
    "# kma.plot_elbow()"
   ]
  },
  {
   "cell_type": "markdown",
   "metadata": {},
   "source": [
    "Перегиб приблизительно в районе 70 кластеров"
   ]
  },
  {
   "cell_type": "code",
   "execution_count": 17,
   "metadata": {},
   "outputs": [
    {
     "name": "stdout",
     "output_type": "stream",
     "text": [
      "Wall time: 8min 35s\n"
     ]
    }
   ],
   "source": [
    "%%time\n",
    "\n",
    "mb_params[\"n_clusters\"] = 70\n",
    "\n",
    "mb1 = MiniBatchKMeans(**mb_params)\n",
    "mb1.fit(X)"
   ]
  },
  {
   "cell_type": "code",
   "execution_count": 18,
   "metadata": {},
   "outputs": [
    {
     "name": "stdout",
     "output_type": "stream",
     "text": [
      "Got 69 clusters\n",
      "Wall time: 1.31 s\n"
     ]
    }
   ],
   "source": [
    "%%time\n",
    "\n",
    "data['labels'] = mb1.labels_\n",
    "clustered_data = data.groupby(\"labels\")[\"normal_query\"].apply(lambda x: np.unique(x))\n",
    "print(f\"Got {clustered_data.shape[0]} clusters\")"
   ]
  },
  {
   "cell_type": "markdown",
   "metadata": {},
   "source": [
    "Алгоритм собрал 69 кластеров\n",
    "\n",
    "Наиболее популярные слова в первых 10 кластерах:"
   ]
  },
  {
   "cell_type": "code",
   "execution_count": 19,
   "metadata": {},
   "outputs": [
    {
     "name": "stdout",
     "output_type": "stream",
     "text": [
      "Cluster 1: бухгалтер сочи вакансия работа 𝑎𝑥 xsd xs3868 xs4600 xsa xsacura\n",
      "Cluster 2: вк скачать порно 𝑎𝑥 xsacura xs1487339290 xs2 xs3868 xs4600 xsa\n",
      "Cluster 3: онлайн смотреть серия русский бесплатно сезон сериал весь качество хороший\n",
      "Cluster 4: вк вход как поиск скачать порно на фото группа видео\n",
      "Cluster 5: россия хорватия июль испания 2018 футбол матч египет почта саудовский\n",
      "Cluster 6: чек показывать оплата налог нужно продажа после квартира ли xs2\n",
      "Cluster 7: сбербанк онлайн бизнес кредит официальный сайт вход калькулятор ипотека как\n",
      "Cluster 8: авить авто область на пробег купить объявление недвижимость квартира вакансия\n",
      "Cluster 9: ведьмак персонаж охота дикий секрет через торрент игра русский бесплатно\n",
      "Cluster 10: порно русский смотреть онлайн зрелый бесплатно 365 домашний фото комикс\n"
     ]
    }
   ],
   "source": [
    "order_centroids = mb1.cluster_centers_.argsort()[:, ::-1]\n",
    "\n",
    "terms = tfidf.get_feature_names()\n",
    "for i in range(10):\n",
    "    print(\"Cluster %d:\" % (i + 1), end='')\n",
    "    for ind in order_centroids[i, :10]:\n",
    "        print(' %s' % terms[ind], end='')\n",
    "    print()"
   ]
  },
  {
   "cell_type": "markdown",
   "metadata": {},
   "source": [
    "Примеры запросов из кластеров"
   ]
  },
  {
   "cell_type": "code",
   "execution_count": 20,
   "metadata": {},
   "outputs": [
    {
     "name": "stdout",
     "output_type": "stream",
     "text": [
      "Cluster 1:\n",
      "\n",
      "авито работа сочи свежие вакансии\n",
      "бухгалтер\n",
      "бухгалтер в школу вакансии в ярославле\n",
      "бухгалтер вакансия бузулук\n",
      "бухгалтер на удаленную работу\n",
      "\n",
      "Cluster 2:\n",
      "\n",
      "вк ru\n",
      "вк порно\n",
      "вк скачать\n",
      "для вк g s j\n",
      "порно в вк\n",
      "\n",
      "Cluster 3:\n",
      "\n",
      "007 квант милосердия смотреть онлайн hd 1080\n",
      "1 1 смотреть онлайн фильм бесплатно в хорошем качестве\n",
      "1 2 смотреть онлайн\n",
      "1 c охраны труда онлайн бесплатно\n",
      "1 канал садовое кольцо 10 серия сериал 2018 смотреть сериал онлайн\n",
      "\n",
      "Cluster 4:\n",
      "\n",
      "152 школа спб в вк\n",
      "18 вк\n",
      "220 вк\n",
      "220 вк ком\n",
      "220 вк скрытые друзья\n",
      "\n",
      "Cluster 5:\n",
      "\n",
      "001 россия поезд красноярск челябинск\n",
      "04 регион это какой город россии\n",
      "07 какой регион в россии\n",
      "1 4 россия\n",
      "1 4 финал футбола россия\n",
      "\n",
      "Cluster 6:\n",
      "\n",
      "налог на продажу квартиры\n",
      "нужно ли показывать чек после оплаты налога с продажи\n",
      "нужно ли показывать чек после оплаты налога с продажи квартиры\n",
      "\n",
      "Cluster 7:\n",
      "\n",
      "100 рублей к чемпионату купить в сбербанке\n",
      "900 сбербанк круглосуточно\n",
      "c сбербанк онлайн\n",
      "cпасибо от сбербанка\n",
      "domclick ru от сбербанка уменьшение процентной ставки клиенту сбербанка по ипотеке\n",
      "\n",
      "Cluster 8:\n",
      "\n",
      "2 комнатная иркутск авито\n",
      "2 комнатные квартиры в г глазов на авито\n",
      "2 комнатные квартиры в новостройках в астрахани на авито\n",
      "2 х комнатная квартира волгоград дзержинский район на авито в аренду\n",
      "29 ру работа в архангельске последние вакансии водитель авито\n",
      "\n",
      "Cluster 9:\n",
      "\n",
      "ведьмак\n",
      "ведьмак 3\n",
      "ведьмак 3 дикая охота\n",
      "ведьмак 3 дикая охота ведьмачьи заказы велен\n",
      "ведьмак 3 дикая охота персонажи\n",
      "\n",
      "Cluster 10:\n",
      "\n",
      "0бабуля в порно хд\n",
      "1 русское порно сестра\n",
      "10 порно звезд с тату\n",
      "1080 порно\n",
      "1080p порно\n",
      "\n"
     ]
    }
   ],
   "source": [
    "for ind, clust in clustered_data.iloc[:10].iteritems():\n",
    "    print(\"Cluster %d:\\n\" % (ind + 1), \"\\n\".join(clust[:5]), sep=\"\\n\", end=\"\\n\\n\")"
   ]
  }
 ],
 "metadata": {
  "kernelspec": {
   "display_name": "Python 3",
   "language": "python",
   "name": "python3"
  },
  "language_info": {
   "codemirror_mode": {
    "name": "ipython",
    "version": 3
   },
   "file_extension": ".py",
   "mimetype": "text/x-python",
   "name": "python",
   "nbconvert_exporter": "python",
   "pygments_lexer": "ipython3",
   "version": "3.7.1"
  }
 },
 "nbformat": 4,
 "nbformat_minor": 2
}
