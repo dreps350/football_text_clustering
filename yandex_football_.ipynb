{
 "cells": [
  {
   "cell_type": "markdown",
   "metadata": {},
   "source": [
    "Яндекс готовит спецпроект, посвященный Чемпионату мира по футболу. Нужно сделать колдунщик, а чтобы он получился качественным, необходимо знать, что интересует пользователей в связи с этим событием: до него, во время и после. \n",
    "\n",
    "Для этого вам предлагается проанализировать логи поисковых запросов. Предложите несколько вариантов классификации этих запросов. Расчётную часть выполните на любом скриптовом языке программирования. К заданию приложите ваш скрипт и отчёт, включающий анализ и выводы (сам колдунщик делать не нужно)."
   ]
  },
  {
   "cell_type": "markdown",
   "metadata": {},
   "source": [
    "# Подготовка"
   ]
  },
  {
   "cell_type": "code",
   "execution_count": null,
   "metadata": {},
   "outputs": [],
   "source": [
    "from time import time\n",
    "import random\n",
    "from datetime import datetime\n",
    "\n",
    "import pandas as pd\n",
    "import matplotlib.pyplot as plt\n",
    "import numpy as np\n",
    "\n",
    "from sklearn.cluster import KMeans, MiniBatchKMeans\n",
    "from sklearn.decomposition import NMF, LatentDirichletAllocation, PCA\n",
    "from sklearn.feature_extraction.text import TfidfVectorizer, CountVectorizer, HashingVectorizer\n",
    "from sklearn.feature_extraction.text import TfidfTransformer\n",
    "from sklearn.feature_extraction.text import CountVectorizer\n",
    "from sklearn.preprocessing import Normalizer\n",
    "from sklearn import metrics\n",
    "\n",
    "from pymorphy2 import MorphAnalyzer\n",
    "\n",
    "MORPH = MorphAnalyzer()"
   ]
  },
  {
   "cell_type": "code",
   "execution_count": 2,
   "metadata": {},
   "outputs": [],
   "source": [
    "with open(\"./data/stopwords-ru.txt\", encoding=\"utf-8\") as f:\n",
    "    stop_words = list(map(str.strip, f.readlines()))"
   ]
  },
  {
   "cell_type": "code",
   "execution_count": 3,
   "metadata": {},
   "outputs": [],
   "source": [
    "class KMeansAnalizer:\n",
    "    \"\"\"\n",
    "    Класс для определения кол-ва кластеров\n",
    "    \"\"\"\n",
    "    def __init__(self, clusterer, data):\n",
    "        self._clusterer = clusterer\n",
    "        self._data = data\n",
    "        self._inertia = {}\n",
    "        self._labels = {}\n",
    "        self._silhouette = {}\n",
    "        \n",
    "    def explore(self, range_inst: \"range\"):\n",
    "        for k in range_inst:\n",
    "            if k in self._inertia:\n",
    "                continue\n",
    "            print(f\"fitting {k} clusters\")\n",
    "            self._clusterer.n_clusters = k\n",
    "            self._clusterer.init_size = k * 3\n",
    "            self._clusterer.fit(self._data)\n",
    "            self._inertia.update({k: np.sqrt(self._clusterer.inertia_)})\n",
    "            self._labels.update({k: self._clusterer.labels_})\n",
    "            \n",
    "    def plot_elbow(self):\n",
    "        plt.plot(self._inertia.keys(), self._inertia.values(), marker='s');\n",
    "        plt.xlabel('$k$')\n",
    "        plt.ylabel('$J(C_k)$');\n",
    "        \n",
    "    def _calculate_silhouette(self):\n",
    "        for k, labels in self._labels.items():\n",
    "            if k not in self._silhouette:\n",
    "                print(f\"Calculating silhouette for {k} clusters\")\n",
    "                self._silhouette.update({k: metrics.silhouette_score(self._data, labels)})\n",
    "        \n",
    "    def plot_silhouette(self):\n",
    "        self._calculate_silhouette()\n",
    "        plt.plot(self._silhouette.keys(), self._silhouette.values(), marker='s');\n",
    "        plt.xlabel('$k$')\n",
    "        plt.ylabel('$Silhouette$');"
   ]
  },
  {
   "cell_type": "code",
   "execution_count": 4,
   "metadata": {},
   "outputs": [],
   "source": [
    "from collections import Counter\n",
    "\n",
    "class WordFreqsCounter:\n",
    "    \"\"\"\n",
    "    Свой класс для подсчета частот слов\n",
    "    \"\"\"\n",
    "    def __init__(self, normal_form=False):\n",
    "        self.normal = normal_form\n",
    "        self._freqs = Counter()\n",
    "    \n",
    "    def count_freqs(self, document, stop_words):\n",
    "        stop_words = set(stop_words)\n",
    "        for term in document:\n",
    "            if self.normal:  # приведение к нормальной форме: \"дверью\" -> \"дверь\"\n",
    "                term = [m.parse(word)[0].normal_form for word in term.split() if word not in stop_words]\n",
    "            else:\n",
    "                term = [word for word in term.split() if word not in stop_words]\n",
    "            self._freqs.update(term)\n",
    "            \n",
    "    @property\n",
    "    def freqs(self):\n",
    "        return pd.Series(self._freqs).sort_values(ascending=False)"
   ]
  },
  {
   "cell_type": "code",
   "execution_count": 5,
   "metadata": {},
   "outputs": [],
   "source": [
    "class LemmTfidfVectorizer(TfidfVectorizer):\n",
    "    \"\"\"\n",
    "    Добавляет функционал MorphAnalizer\n",
    "    \"\"\"\n",
    "    def build_analyzer(self):\n",
    "        analyzer = super(TfidfVectorizer, self).build_analyzer()\n",
    "        def parse_analyzer(data):\n",
    "            for word in analyzer(data):\n",
    "                yield MORPH.parse(word)[0].normal_form\n",
    "        return parse_analyzer"
   ]
  },
  {
   "cell_type": "markdown",
   "metadata": {},
   "source": [
    "# EDA"
   ]
  },
  {
   "cell_type": "code",
   "execution_count": 6,
   "metadata": {},
   "outputs": [],
   "source": [
    "data = pd.read_csv(\"./data/football\", nrows=1000000, sep=\"\\t\")\n",
    "data.dropna(inplace=True)\n",
    "data.datetime = pd.to_datetime(data.datetime)"
   ]
  },
  {
   "cell_type": "code",
   "execution_count": 7,
   "metadata": {},
   "outputs": [
    {
     "data": {
      "text/html": [
       "<div>\n",
       "<style scoped>\n",
       "    .dataframe tbody tr th:only-of-type {\n",
       "        vertical-align: middle;\n",
       "    }\n",
       "\n",
       "    .dataframe tbody tr th {\n",
       "        vertical-align: top;\n",
       "    }\n",
       "\n",
       "    .dataframe thead th {\n",
       "        text-align: right;\n",
       "    }\n",
       "</style>\n",
       "<table border=\"1\" class=\"dataframe\">\n",
       "  <thead>\n",
       "    <tr style=\"text-align: right;\">\n",
       "      <th></th>\n",
       "      <th>normal_query</th>\n",
       "      <th>datetime</th>\n",
       "    </tr>\n",
       "  </thead>\n",
       "  <tbody>\n",
       "    <tr>\n",
       "      <th>count</th>\n",
       "      <td>999999</td>\n",
       "      <td>999999</td>\n",
       "    </tr>\n",
       "    <tr>\n",
       "      <th>unique</th>\n",
       "      <td>776657</td>\n",
       "      <td>73401</td>\n",
       "    </tr>\n",
       "    <tr>\n",
       "      <th>top</th>\n",
       "      <td>вк</td>\n",
       "      <td>2018-06-19 11:42:22</td>\n",
       "    </tr>\n",
       "    <tr>\n",
       "      <th>freq</th>\n",
       "      <td>6364</td>\n",
       "      <td>48</td>\n",
       "    </tr>\n",
       "    <tr>\n",
       "      <th>first</th>\n",
       "      <td>NaN</td>\n",
       "      <td>2018-06-14 01:56:52</td>\n",
       "    </tr>\n",
       "    <tr>\n",
       "      <th>last</th>\n",
       "      <td>NaN</td>\n",
       "      <td>2018-07-15 19:44:49</td>\n",
       "    </tr>\n",
       "  </tbody>\n",
       "</table>\n",
       "</div>"
      ],
      "text/plain": [
       "       normal_query             datetime\n",
       "count        999999               999999\n",
       "unique       776657                73401\n",
       "top              вк  2018-06-19 11:42:22\n",
       "freq           6364                   48\n",
       "first           NaN  2018-06-14 01:56:52\n",
       "last            NaN  2018-07-15 19:44:49"
      ]
     },
     "execution_count": 7,
     "metadata": {},
     "output_type": "execute_result"
    }
   ],
   "source": [
    "data.describe()"
   ]
  },
  {
   "cell_type": "markdown",
   "metadata": {},
   "source": [
    "Работаем на примере запросов в период с 2018-06-14 по 2018-07-15 (1 месяц)"
   ]
  },
  {
   "cell_type": "markdown",
   "metadata": {},
   "source": [
    "Как распределены частоты слов?"
   ]
  },
  {
   "cell_type": "code",
   "execution_count": 8,
   "metadata": {},
   "outputs": [
    {
     "name": "stdout",
     "output_type": "stream",
     "text": [
      "Wall time: 21.1 s\n"
     ]
    }
   ],
   "source": [
    "%%time\n",
    "\n",
    "wfc = WordFreqsCounter()\n",
    "wfc.count_freqs(data[\"normal_query\"].values, stop_words)\n",
    "\n",
    "# отсеиваем слова, состоящие только из цифр\n",
    "digit_filter = np.core.defchararray.isdigit(wfc.freqs.index.tolist())"
   ]
  },
  {
   "cell_type": "code",
   "execution_count": 9,
   "metadata": {},
   "outputs": [
    {
     "data": {
      "text/plain": [
       "<matplotlib.axes._subplots.AxesSubplot at 0x25a52b3cc50>"
      ]
     },
     "execution_count": 9,
     "metadata": {},
     "output_type": "execute_result"
    },
    {
     "data": {
      "image/png": "[encoded data removed]",
      "text/plain": [
       "<Figure size 720x288 with 1 Axes>"
      ]
     },
     "metadata": {
      "needs_background": "light"
     },
     "output_type": "display_data"
    }
   ],
   "source": [
    "wfc.freqs[~digit_filter & wfc.freqs].head(50).plot(kind=\"bar\", figsize=(10, 4));"
   ]
  },
  {
   "cell_type": "markdown",
   "metadata": {},
   "source": [
    "# Кластеризация"
   ]
  },
  {
   "cell_type": "markdown",
   "metadata": {},
   "source": [
    "Используем векторизатор Tf Idf так как он позволяет учитывать частоту появления слов как в отдельном запросе так и во всех запросах в целом.\n",
    "\n",
    "Используем N-граммы 1 и 2 чтобы использовать в качестве признаков отдельные слова и словосочетания.\n",
    "\n",
    "https://scikit-learn.org/stable/modules/feature_extraction\n",
    "\n",
    "Используем кластеризатор MiniBatchKMeans так как он работает быстрее обычного KMeans.\n",
    "\n",
    "https://scikit-learn.org/stable/auto_examples/cluster/plot_mini_batch_kmeans.html"
   ]
  },
  {
   "cell_type": "code",
   "execution_count": 11,
   "metadata": {},
   "outputs": [],
   "source": [
    "# параметры векторизатора\n",
    "v_params = {\n",
    "    \"max_df\": 0.95,  # используем слова, которые встречаются не более чем в 95% запросов\n",
    "    \"min_df\": 2, # используем слова, которые встречаются не менее 2 раз\n",
    "    \"stop_words\": stop_words,\n",
    "    \"max_features\": 2000,\n",
    "    \"ngram_range\": (1, 2)\n",
    "}"
   ]
  },
  {
   "cell_type": "code",
   "execution_count": 12,
   "metadata": {},
   "outputs": [],
   "source": [
    "# параметры кластеризатора\n",
    "mb_params = {\n",
    "    \"init\": \"k-means++\",\n",
    "    \"n_init\": 10,\n",
    "    \"max_no_improvement\": 10,\n",
    "    \"batch_size\": 45\n",
    "}"
   ]
  },
  {
   "cell_type": "code",
   "execution_count": 13,
   "metadata": {},
   "outputs": [],
   "source": [
    "tfidf = LemmTfidfVectorizer(v_params)\n",
    "\n",
    "mb = MiniBatchKMeans(**mb_params)"
   ]
  },
  {
   "cell_type": "markdown",
   "metadata": {},
   "source": [
    "Приводим наши запросы к векторной форме:"
   ]
  },
  {
   "cell_type": "code",
   "execution_count": 15,
   "metadata": {},
   "outputs": [
    {
     "name": "stdout",
     "output_type": "stream",
     "text": [
      "Wall time: 8min 46s\n"
     ]
    }
   ],
   "source": [
    "%%time\n",
    "\n",
    "X = tfidf.fit_transform(data[\"normal_query\"])"
   ]
  },
  {
   "cell_type": "markdown",
   "metadata": {},
   "source": [
    "Оценка необходимого числа кластеров методом локтя\n",
    "\n",
    "Критерий - сумма квадратов расстояний от точек до центроидов кластеров, к которым они относятся"
   ]
  },
  {
   "cell_type": "code",
   "execution_count": 16,
   "metadata": {},
   "outputs": [],
   "source": [
    "kma = KMeansAnalizer(mb, X)"
   ]
  },
  {
   "cell_type": "code",
   "execution_count": 17,
   "metadata": {
    "collapsed": true
   },
   "outputs": [
    {
     "name": "stdout",
     "output_type": "stream",
     "text": [
      "fitting 10 clusters\n",
      "fitting 30 clusters\n",
      "fitting 50 clusters\n",
      "fitting 70 clusters\n"
     ]
    },
    {
     "ename": "KeyboardInterrupt",
     "evalue": "",
     "output_type": "error",
     "traceback": [
      "\u001b[1;31m---------------------------------------------------------------------------\u001b[0m",
      "\u001b[1;31mKeyboardInterrupt\u001b[0m                         Traceback (most recent call last)",
      "\u001b[1;32m<timed eval>\u001b[0m in \u001b[0;36m<module>\u001b[1;34m\u001b[0m\n",
      "\u001b[1;32m<ipython-input-3-5905f816d41c>\u001b[0m in \u001b[0;36mexplore\u001b[1;34m(self, range_inst)\u001b[0m\n\u001b[0;32m     17\u001b[0m             \u001b[0mself\u001b[0m\u001b[1;33m.\u001b[0m\u001b[0m_clusterer\u001b[0m\u001b[1;33m.\u001b[0m\u001b[0mn_clusters\u001b[0m \u001b[1;33m=\u001b[0m \u001b[0mk\u001b[0m\u001b[1;33m\u001b[0m\u001b[1;33m\u001b[0m\u001b[0m\n\u001b[0;32m     18\u001b[0m             \u001b[0mself\u001b[0m\u001b[1;33m.\u001b[0m\u001b[0m_clusterer\u001b[0m\u001b[1;33m.\u001b[0m\u001b[0minit_size\u001b[0m \u001b[1;33m=\u001b[0m \u001b[0mk\u001b[0m \u001b[1;33m*\u001b[0m \u001b[1;36m3\u001b[0m\u001b[1;33m\u001b[0m\u001b[1;33m\u001b[0m\u001b[0m\n\u001b[1;32m---> 19\u001b[1;33m             \u001b[0mself\u001b[0m\u001b[1;33m.\u001b[0m\u001b[0m_clusterer\u001b[0m\u001b[1;33m.\u001b[0m\u001b[0mfit\u001b[0m\u001b[1;33m(\u001b[0m\u001b[0mself\u001b[0m\u001b[1;33m.\u001b[0m\u001b[0m_data\u001b[0m\u001b[1;33m)\u001b[0m\u001b[1;33m\u001b[0m\u001b[1;33m\u001b[0m\u001b[0m\n\u001b[0m\u001b[0;32m     20\u001b[0m             \u001b[0mself\u001b[0m\u001b[1;33m.\u001b[0m\u001b[0m_inertia\u001b[0m\u001b[1;33m.\u001b[0m\u001b[0mupdate\u001b[0m\u001b[1;33m(\u001b[0m\u001b[1;33m{\u001b[0m\u001b[0mk\u001b[0m\u001b[1;33m:\u001b[0m \u001b[0mnp\u001b[0m\u001b[1;33m.\u001b[0m\u001b[0msqrt\u001b[0m\u001b[1;33m(\u001b[0m\u001b[0mself\u001b[0m\u001b[1;33m.\u001b[0m\u001b[0m_clusterer\u001b[0m\u001b[1;33m.\u001b[0m\u001b[0minertia_\u001b[0m\u001b[1;33m)\u001b[0m\u001b[1;33m}\u001b[0m\u001b[1;33m)\u001b[0m\u001b[1;33m\u001b[0m\u001b[1;33m\u001b[0m\u001b[0m\n\u001b[0;32m     21\u001b[0m             \u001b[0mself\u001b[0m\u001b[1;33m.\u001b[0m\u001b[0m_labels\u001b[0m\u001b[1;33m.\u001b[0m\u001b[0mupdate\u001b[0m\u001b[1;33m(\u001b[0m\u001b[1;33m{\u001b[0m\u001b[0mk\u001b[0m\u001b[1;33m:\u001b[0m \u001b[0mself\u001b[0m\u001b[1;33m.\u001b[0m\u001b[0m_clusterer\u001b[0m\u001b[1;33m.\u001b[0m\u001b[0mlabels_\u001b[0m\u001b[1;33m}\u001b[0m\u001b[1;33m)\u001b[0m\u001b[1;33m\u001b[0m\u001b[1;33m\u001b[0m\u001b[0m\n",
      "\u001b[1;32md:\\coding\\Anaconda3\\lib\\site-packages\\sklearn\\cluster\\k_means_.py\u001b[0m in \u001b[0;36mfit\u001b[1;34m(self, X, y, sample_weight)\u001b[0m\n\u001b[0;32m   1604\u001b[0m                 \u001b[0mrandom_state\u001b[0m\u001b[1;33m=\u001b[0m\u001b[0mrandom_state\u001b[0m\u001b[1;33m,\u001b[0m\u001b[1;33m\u001b[0m\u001b[1;33m\u001b[0m\u001b[0m\n\u001b[0;32m   1605\u001b[0m                 \u001b[0mreassignment_ratio\u001b[0m\u001b[1;33m=\u001b[0m\u001b[0mself\u001b[0m\u001b[1;33m.\u001b[0m\u001b[0mreassignment_ratio\u001b[0m\u001b[1;33m,\u001b[0m\u001b[1;33m\u001b[0m\u001b[1;33m\u001b[0m\u001b[0m\n\u001b[1;32m-> 1606\u001b[1;33m                 verbose=self.verbose)\n\u001b[0m\u001b[0;32m   1607\u001b[0m \u001b[1;33m\u001b[0m\u001b[0m\n\u001b[0;32m   1608\u001b[0m             \u001b[1;31m# Monitor convergence and do early stopping if necessary\u001b[0m\u001b[1;33m\u001b[0m\u001b[1;33m\u001b[0m\u001b[1;33m\u001b[0m\u001b[0m\n",
      "\u001b[1;32md:\\coding\\Anaconda3\\lib\\site-packages\\sklearn\\cluster\\k_means_.py\u001b[0m in \u001b[0;36m_mini_batch_step\u001b[1;34m(X, sample_weight, x_squared_norms, centers, weight_sums, old_center_buffer, compute_squared_diff, distances, random_reassign, random_state, reassignment_ratio, verbose)\u001b[0m\n\u001b[0;32m   1176\u001b[0m     nearest_center, inertia = _labels_inertia(X, sample_weight,\n\u001b[0;32m   1177\u001b[0m                                               \u001b[0mx_squared_norms\u001b[0m\u001b[1;33m,\u001b[0m \u001b[0mcenters\u001b[0m\u001b[1;33m,\u001b[0m\u001b[1;33m\u001b[0m\u001b[1;33m\u001b[0m\u001b[0m\n\u001b[1;32m-> 1178\u001b[1;33m                                               distances=distances)\n\u001b[0m\u001b[0;32m   1179\u001b[0m \u001b[1;33m\u001b[0m\u001b[0m\n\u001b[0;32m   1180\u001b[0m     \u001b[1;32mif\u001b[0m \u001b[0mrandom_reassign\u001b[0m \u001b[1;32mand\u001b[0m \u001b[0mreassignment_ratio\u001b[0m \u001b[1;33m>\u001b[0m \u001b[1;36m0\u001b[0m\u001b[1;33m:\u001b[0m\u001b[1;33m\u001b[0m\u001b[1;33m\u001b[0m\u001b[0m\n",
      "\u001b[1;32md:\\coding\\Anaconda3\\lib\\site-packages\\sklearn\\cluster\\k_means_.py\u001b[0m in \u001b[0;36m_labels_inertia\u001b[1;34m(X, sample_weight, x_squared_norms, centers, precompute_distances, distances)\u001b[0m\n\u001b[0;32m    686\u001b[0m             \u001b[0mX\u001b[0m\u001b[1;33m,\u001b[0m \u001b[0msample_weight\u001b[0m\u001b[1;33m,\u001b[0m \u001b[0mx_squared_norms\u001b[0m\u001b[1;33m,\u001b[0m \u001b[0mcenters\u001b[0m\u001b[1;33m,\u001b[0m \u001b[0mlabels\u001b[0m\u001b[1;33m,\u001b[0m\u001b[1;33m\u001b[0m\u001b[1;33m\u001b[0m\u001b[0m\n\u001b[0;32m    687\u001b[0m             distances=distances)\n\u001b[1;32m--> 688\u001b[1;33m     \u001b[1;32mreturn\u001b[0m \u001b[0mlabels\u001b[0m\u001b[1;33m,\u001b[0m \u001b[0minertia\u001b[0m\u001b[1;33m\u001b[0m\u001b[1;33m\u001b[0m\u001b[0m\n\u001b[0m\u001b[0;32m    689\u001b[0m \u001b[1;33m\u001b[0m\u001b[0m\n\u001b[0;32m    690\u001b[0m \u001b[1;33m\u001b[0m\u001b[0m\n",
      "\u001b[1;31mKeyboardInterrupt\u001b[0m: "
     ]
    }
   ],
   "source": [
    "%%time\n",
    "\n",
    "kma.explore(range(10, 200, 20))"
   ]
  },
  {
   "cell_type": "code",
   "execution_count": 18,
   "metadata": {},
   "outputs": [
    {
     "data": {
      "image/png": "[encoded data removed]",
      "text/plain": [
       "<Figure size 432x288 with 1 Axes>"
      ]
     },
     "metadata": {
      "needs_background": "light"
     },
     "output_type": "display_data"
    }
   ],
   "source": [
    "kma.plot_elbow()"
   ]
  },
  {
   "cell_type": "markdown",
   "metadata": {},
   "source": [
    "Перегиб приблизительно в районе 70 кластеров"
   ]
  },
  {
   "cell_type": "code",
   "execution_count": 19,
   "metadata": {},
   "outputs": [
    {
     "name": "stdout",
     "output_type": "stream",
     "text": [
      "Wall time: 7min 29s\n"
     ]
    }
   ],
   "source": [
    "%%time\n",
    "\n",
    "mb_params[\"n_clusters\"] = 70\n",
    "\n",
    "mb1 = MiniBatchKMeans(**mb_params)\n",
    "mb1.fit(X)"
   ]
  },
  {
   "cell_type": "code",
   "execution_count": 35,
   "metadata": {},
   "outputs": [
    {
     "name": "stdout",
     "output_type": "stream",
     "text": [
      "Got 69 clusters\n",
      "Wall time: 1.18 s\n"
     ]
    }
   ],
   "source": [
    "%%time\n",
    "\n",
    "data['labels'] = mb1.labels_\n",
    "clustered_data = data.groupby(\"labels\")[\"normal_query\"].apply(lambda x: np.unique(x))\n",
    "print(f\"Got {clustered_data.shape[0]} clusters\")"
   ]
  },
  {
   "cell_type": "markdown",
   "metadata": {},
   "source": [
    "Алгоритм собрал 69 кластеров\n",
    "\n",
    "Наиболее популярные слова в первых 10 кластерах:"
   ]
  },
  {
   "cell_type": "code",
   "execution_count": 31,
   "metadata": {},
   "outputs": [
    {
     "name": "stdout",
     "output_type": "stream",
     "text": [
      "Cluster 1: онлайн смотреть бесплатно слушать качество хороший фильм радио 2018 сериал\n",
      "Cluster 2: чм футбол 2018 по матч расписание на россия трансляция сборный\n",
      "Cluster 3: одноклассник социальный сеть мой ок jj ru вход войти соц\n",
      "Cluster 4: рука свой из на для как сделать вверх фото чертёж\n",
      "Cluster 5: погода на день 14 неделя прогноз 10 москва область завтра\n",
      "Cluster 6: весь серия подряд смотреть на свежий сериал дом бесплатно 2018\n",
      "Cluster 7: что такой это делать если на значит сниться за не\n",
      "Cluster 8: на для сайт официальный купить 2018 москва по цена фото\n",
      "Cluster 9: вк 𝑎𝑥 xsd xs1487339290 xs2 xs3868 xs4600 xsa xsacura xsenom\n",
      "Cluster 10: порно русский видео смотреть бесплатно зрелый 365 фото гей комикс\n"
     ]
    }
   ],
   "source": [
    "order_centroids = mb1.cluster_centers_.argsort()[:, ::-1]\n",
    "\n",
    "terms = tfidf.get_feature_names()\n",
    "for i in range(10):\n",
    "    print(\"Cluster %d:\" % (i + 1), end='')\n",
    "    for ind in order_centroids[i, :10]:\n",
    "        print(' %s' % terms[ind], end='')\n",
    "    print()"
   ]
  },
  {
   "cell_type": "markdown",
   "metadata": {},
   "source": [
    "Примеры запросов из кластеров"
   ]
  },
  {
   "cell_type": "code",
   "execution_count": 32,
   "metadata": {},
   "outputs": [
    {
     "name": "stdout",
     "output_type": "stream",
     "text": [
      "Cluster 1:\n",
      "\n",
      "007 квант милосердия смотреть онлайн hd 1080\n",
      "1 1 смотреть онлайн фильм бесплатно в хорошем качестве\n",
      "1 2 смотреть онлайн\n",
      "1 c охраны труда онлайн бесплатно\n",
      "1 й канал онлайн смотреть бесплатно\n",
      "\n",
      "Cluster 2:\n",
      "\n",
      "1 2 финала чм\n",
      "1 2 финала чм по футболу\n",
      "1 2 финала чм по футболу 2018\n",
      "1 2 чм 2018\n",
      "1 4 финала чм по футболу 2018\n",
      "\n",
      "Cluster 3:\n",
      "\n",
      "http одноклассники\n",
      "jj одноклассники\n",
      "jr одноклассники\n",
      "ok ru одноклассники\n",
      "алексей романов одноклассники\n",
      "\n",
      "Cluster 4:\n",
      "\n",
      "0 20 атаманка за руку держи\n",
      "18 мне уже руки вверх\n",
      "2 песни в одной он взмахнул рукой мы дети галактики\n",
      "3 слова о своем характере\n",
      "3d сканер своими руками высокого разрешения\n",
      "\n",
      "Cluster 5:\n",
      "\n",
      "5ру погода\n",
      "74 ru погода\n",
      "74 ru челябинск новости погода\n",
      "76 ру погода\n",
      "e1 ru погода\n",
      "\n",
      "Cluster 6:\n",
      "\n",
      "1 335 30 серия дома\n",
      "1 8 серии плей офф\n",
      "1 кино тв на садовое кольцо 7 серия\n",
      "1 рубль 1740 посмотреть со всех сторон\n",
      "1 сентября все уходят в школу\n",
      "\n",
      "Cluster 7:\n",
      "\n",
      "0 1 м это\n",
      "0 2 регион что такое\n",
      "037133843a для чего нужен\n",
      "08 коэффициент предпринимательской деятельности что значит базовая доходность как расчитать за квартал\n",
      "0х0000007b что это за ошибка как исправить\n",
      "\n",
      "Cluster 8:\n",
      "\n",
      "0 02 доллара в рублях\n",
      "0 05 непара песня о любви которой не было\n",
      "0 1 часа это\n",
      "0 138 уе это сколько в рублях\n",
      "0 15 долларов в рублях\n",
      "\n",
      "Cluster 9:\n",
      "\n",
      "в вк\n",
      "вк\n",
      "вк вк\n",
      "вк п о н ч и к\n",
      "вк ъ\n",
      "\n",
      "Cluster 10:\n",
      "\n",
      "0бабуля в порно хд\n",
      "1 русское порно сестра\n",
      "10 порно звезд с тату\n",
      "1080 порно\n",
      "1080p порно\n",
      "\n"
     ]
    }
   ],
   "source": [
    "for ind, clust in clustered_data.iloc[:10].iteritems():\n",
    "    print(\"Cluster %d:\\n\" % (ind + 1), \"\\n\".join(clust[:5]), sep=\"\\n\", end=\"\\n\\n\")"
   ]
  }
 ],
 "metadata": {
  "kernelspec": {
   "display_name": "Python 3",
   "language": "python",
   "name": "python3"
  },
  "language_info": {
   "codemirror_mode": {
    "name": "ipython",
    "version": 3
   },
   "file_extension": ".py",
   "mimetype": "text/x-python",
   "name": "python",
   "nbconvert_exporter": "python",
   "pygments_lexer": "ipython3",
   "version": "3.7.1"
  }
 },
 "nbformat": 4,
 "nbformat_minor": 2
}
